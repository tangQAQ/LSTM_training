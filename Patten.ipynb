{
  "nbformat": 4,
  "nbformat_minor": 0,
  "metadata": {
    "colab": {
      "provenance": [],
      "authorship_tag": "ABX9TyNab8IO642iZknUQ18fuUQa",
      "include_colab_link": true
    },
    "kernelspec": {
      "name": "python3",
      "display_name": "Python 3"
    },
    "language_info": {
      "name": "python"
    },
    "accelerator": "GPU",
    "gpuClass": "standard"
  },
  "cells": [
    {
      "cell_type": "markdown",
      "metadata": {
        "id": "view-in-github",
        "colab_type": "text"
      },
      "source": [
        "<a href=\"https://colab.research.google.com/github/tangQAQ/LSTM_training/blob/main/Patten.ipynb\" target=\"_parent\"><img src=\"https://colab.research.google.com/assets/colab-badge.svg\" alt=\"Open In Colab\"/></a>"
      ]
    },
    {
      "cell_type": "code",
      "execution_count": 49,
      "metadata": {
        "colab": {
          "base_uri": "https://localhost:8080/"
        },
        "id": "kCo7RVKygRWW",
        "outputId": "9ae6a327-b7d6-4c95-bc95-40761c6cb949"
      },
      "outputs": [
        {
          "output_type": "stream",
          "name": "stdout",
          "text": [
            "Drive already mounted at /content/gdrive; to attempt to forcibly remount, call drive.mount(\"/content/gdrive\", force_remount=True).\n",
            "<class 'pandas.core.frame.DataFrame'>\n",
            "RangeIndex: 9073 entries, 0 to 9072\n",
            "Data columns (total 7 columns):\n",
            " #   Column     Non-Null Count  Dtype  \n",
            "---  ------     --------------  -----  \n",
            " 0   Date       9073 non-null   object \n",
            " 1   Open       9073 non-null   float64\n",
            " 2   High       9073 non-null   float64\n",
            " 3   Low        9073 non-null   float64\n",
            " 4   Close      9073 non-null   float64\n",
            " 5   Adj Close  9073 non-null   float64\n",
            " 6   Volume     9073 non-null   int64  \n",
            "dtypes: float64(5), int64(1), object(1)\n",
            "memory usage: 496.3+ KB\n"
          ]
        }
      ],
      "source": [
        "import pandas as pd\n",
        "import numpy as np\n",
        "from sklearn.preprocessing import MinMaxScaler\n",
        "from keras.models import Sequential\n",
        "from keras.layers import Dense, LSTM, Dropout, TimeDistributed\n",
        "from google.colab import drive\n",
        "import matplotlib.pyplot as plt\n",
        "from keras.losses import LogCosh\n",
        "from keras.optimizers import Adam\n",
        "import warnings \n",
        "\n",
        "warnings.filterwarnings('ignore')\n",
        "\n",
        "drive.mount('/content/gdrive')\n",
        "train_data = pd.read_csv(\"/content/gdrive/MyDrive/MSFT_train.csv\")\n",
        "train_data.info()"
      ]
    },
    {
      "cell_type": "code",
      "source": [
        "features = [\"Open\", \"High\", \"Low\", \"Volume\"]\n",
        "target = \"Close\"\n",
        "\n",
        "sequences = 15\n",
        "train_data = train_data.drop(['Date'], axis= 1)"
      ],
      "metadata": {
        "id": "pGRh4aVLgsCB"
      },
      "execution_count": 2,
      "outputs": []
    },
    {
      "cell_type": "code",
      "source": [
        "def create_sequences(data, sequences):\n",
        "    X = []\n",
        "    y = []\n",
        "    for i in range(sequences, len(data)):\n",
        "        X.append(data[i-sequences:i, :])\n",
        "        y.append(data[i, 0])\n",
        "    X = np.array(X)\n",
        "    y = np.array(y)\n",
        "    return X, y"
      ],
      "metadata": {
        "id": "hVMiJjcWgvY1"
      },
      "execution_count": 3,
      "outputs": []
    },
    {
      "cell_type": "code",
      "source": [
        "sc = MinMaxScaler(feature_range=(0,1))\n",
        "\n",
        "train_data_scaled = sc.fit_transform(train_data.iloc[:, 4:5]).astype('float32')\n",
        "X_train, y_train = create_sequences(train_data_scaled, sequences)\n",
        "X_train.shape, y_train.shape"
      ],
      "metadata": {
        "colab": {
          "base_uri": "https://localhost:8080/"
        },
        "id": "KMgrUfAAhLsX",
        "outputId": "6ae12828-adb3-4ed0-e597-41dea2cd230b"
      },
      "execution_count": 4,
      "outputs": [
        {
          "output_type": "execute_result",
          "data": {
            "text/plain": [
              "((9058, 15, 1), (9058,))"
            ]
          },
          "metadata": {},
          "execution_count": 4
        }
      ]
    },
    {
      "cell_type": "code",
      "source": [
        "model = Sequential()\n",
        "model.add(LSTM(units=30, input_shape=(X_train.shape[1], X_train.shape[2])))\n",
        "model.add(Dense(units=1))\n",
        "\n",
        "model.compile(optimizer='Adam', loss='mse')\n",
        "\n",
        "model.fit(X_train, y_train, epochs=10, batch_size=32)"
      ],
      "metadata": {
        "colab": {
          "base_uri": "https://localhost:8080/"
        },
        "id": "YkZbrumanRUA",
        "outputId": "10beed0d-6ee7-4dd0-d038-d1b4a2b3a0d0"
      },
      "execution_count": 5,
      "outputs": [
        {
          "output_type": "stream",
          "name": "stdout",
          "text": [
            "Epoch 1/10\n",
            "284/284 [==============================] - 12s 5ms/step - loss: 7.7769e-04\n",
            "Epoch 2/10\n",
            "284/284 [==============================] - 1s 4ms/step - loss: 4.5977e-05\n",
            "Epoch 3/10\n",
            "284/284 [==============================] - 2s 6ms/step - loss: 4.6005e-05\n",
            "Epoch 4/10\n",
            "284/284 [==============================] - 2s 6ms/step - loss: 4.4360e-05\n",
            "Epoch 5/10\n",
            "284/284 [==============================] - 2s 6ms/step - loss: 4.3548e-05\n",
            "Epoch 6/10\n",
            "284/284 [==============================] - 2s 7ms/step - loss: 3.6417e-05\n",
            "Epoch 7/10\n",
            "284/284 [==============================] - 1s 4ms/step - loss: 3.5092e-05\n",
            "Epoch 8/10\n",
            "284/284 [==============================] - 1s 4ms/step - loss: 3.2166e-05\n",
            "Epoch 9/10\n",
            "284/284 [==============================] - 1s 4ms/step - loss: 3.3506e-05\n",
            "Epoch 10/10\n",
            "284/284 [==============================] - 1s 4ms/step - loss: 3.0591e-05\n"
          ]
        },
        {
          "output_type": "execute_result",
          "data": {
            "text/plain": [
              "<keras.callbacks.History at 0x7f4c8c0bad30>"
            ]
          },
          "metadata": {},
          "execution_count": 5
        }
      ]
    },
    {
      "cell_type": "code",
      "source": [
        "model.evaluate(X_train, y_train, batch_size= 32)"
      ],
      "metadata": {
        "colab": {
          "base_uri": "https://localhost:8080/"
        },
        "id": "D7PNGwgQKoSt",
        "outputId": "b07888b1-1484-4196-d7a8-720fbef3b777"
      },
      "execution_count": 6,
      "outputs": [
        {
          "output_type": "stream",
          "name": "stdout",
          "text": [
            "284/284 [==============================] - 1s 2ms/step - loss: 4.0720e-05\n"
          ]
        },
        {
          "output_type": "execute_result",
          "data": {
            "text/plain": [
              "4.0720431570662186e-05"
            ]
          },
          "metadata": {},
          "execution_count": 6
        }
      ]
    },
    {
      "cell_type": "code",
      "source": [
        "test_df = pd.read_csv(\"/content/gdrive/MyDrive/MSFT_pred.csv\")\n",
        "\n",
        "test_data = test_df.copy()\n",
        "test_data = test_data.iloc[:, 4:5]\n",
        "preds = list()\n",
        "days = 15\n",
        "\n",
        "for i in range(1, days+1):\n",
        "  test_data_scaled = sc.fit_transform(test_data)\n",
        "  X_test, y_test = create_sequences(test_data_scaled, sequences)\n",
        "  test_predictions = model.predict(X_test)\n",
        "  inverse = sc.inverse_transform(test_predictions)\n",
        "  preds.append(inverse[:, 0])\n",
        "  test_data.drop(0, inplace=True)\n",
        "  test_data = test_data.append(pd.Series(inverse[:,0], index=test_data.columns), ignore_index=True)\n"
      ],
      "metadata": {
        "colab": {
          "base_uri": "https://localhost:8080/"
        },
        "id": "BeP53pdCnWRb",
        "outputId": "4f833d21-f080-4f77-8837-5fa9daf0bacf"
      },
      "execution_count": 95,
      "outputs": [
        {
          "output_type": "stream",
          "name": "stdout",
          "text": [
            "1/1 [==============================] - 0s 35ms/step\n",
            "1/1 [==============================] - 0s 42ms/step\n",
            "1/1 [==============================] - 0s 28ms/step\n",
            "1/1 [==============================] - 0s 28ms/step\n",
            "1/1 [==============================] - 0s 27ms/step\n",
            "1/1 [==============================] - 0s 27ms/step\n",
            "1/1 [==============================] - 0s 38ms/step\n",
            "1/1 [==============================] - 0s 28ms/step\n",
            "1/1 [==============================] - 0s 40ms/step\n",
            "1/1 [==============================] - 0s 26ms/step\n",
            "1/1 [==============================] - 0s 38ms/step\n",
            "1/1 [==============================] - 0s 26ms/step\n",
            "1/1 [==============================] - 0s 27ms/step\n",
            "1/1 [==============================] - 0s 27ms/step\n",
            "1/1 [==============================] - 0s 26ms/step\n"
          ]
        }
      ]
    },
    {
      "cell_type": "code",
      "source": [
        "model.evaluate(X_test, y_test, batch_size= 32)"
      ],
      "metadata": {
        "colab": {
          "base_uri": "https://localhost:8080/"
        },
        "id": "8L5ZVeZPKzXX",
        "outputId": "1986f9ed-d90b-43c6-fff1-866d7287b295"
      },
      "execution_count": 96,
      "outputs": [
        {
          "output_type": "stream",
          "name": "stdout",
          "text": [
            "1/1 [==============================] - 0s 33ms/step - loss: 1.3192e-08\n"
          ]
        },
        {
          "output_type": "execute_result",
          "data": {
            "text/plain": [
              "1.3192394732186585e-08"
            ]
          },
          "metadata": {},
          "execution_count": 96
        }
      ]
    },
    {
      "cell_type": "code",
      "source": [
        "from numpy.ma import left_shift\n",
        "import matplotlib.ticker as ticker\n",
        "actual_data = pd.read_csv(\"/content/gdrive/MyDrive/MSFT_test.csv\")\n",
        "\n",
        "test_data_copy = actual_data.iloc[:len(actual_data)].copy()\n",
        "Actual_Close = test_data_copy['Close'].drop(sequences)\n",
        "result = preds\n",
        "\n",
        "plt.figure(figsize=(12, 8))\n",
        "plt.title('Actual vs. Predicted Closing Prices')\n",
        "plt.xlabel('Time line')\n",
        "plt.ylabel('Closing Price')\n",
        "plt.plot(Actual_Close, label='Actual Close', color='r')\n",
        "plt.plot(result, label='Predicted Close', color='b', linestyle='--')\n",
        "plt.xlim([0,days])\n",
        "#ax= plt.gca()\n",
        "#ax.xaxis.set_major_locator(ticker.MultipleLocator(100))\n",
        "plt.legend()\n",
        "plt.show()"
      ],
      "metadata": {
        "id": "Pb_RbsQ5oVa4",
        "colab": {
          "base_uri": "https://localhost:8080/",
          "height": 588
        },
        "outputId": "68543fa1-611a-4b40-d901-2e19cc267207"
      },
      "execution_count": 97,
      "outputs": [
        {
          "output_type": "display_data",
          "data": {
            "text/plain": [
              "<Figure size 1200x800 with 1 Axes>"
            ],
            "image/png": "[encoded data removed]"
          },
          "metadata": {}
        }
      ]
    },
    {
      "cell_type": "code",
      "source": [],
      "metadata": {
        "id": "Ww9w9QOSn0uu"
      },
      "execution_count": 9,
      "outputs": []
    }
  ]
}