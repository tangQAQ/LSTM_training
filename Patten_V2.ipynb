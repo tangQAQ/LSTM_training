{
  "nbformat": 4,
  "nbformat_minor": 0,
  "metadata": {
    "colab": {
      "provenance": [],
      "authorship_tag": "ABX9TyMUfo30mKtGeg91wfmLmc3x",
      "include_colab_link": true
    },
    "kernelspec": {
      "name": "python3",
      "display_name": "Python 3"
    },
    "language_info": {
      "name": "python"
    },
    "accelerator": "GPU",
    "gpuClass": "standard"
  },
  "cells": [
    {
      "cell_type": "markdown",
      "metadata": {
        "id": "view-in-github",
        "colab_type": "text"
      },
      "source": [
        "<a href=\"https://colab.research.google.com/github/tangQAQ/LSTM_training/blob/main/Patten_V2.ipynb\" target=\"_parent\"><img src=\"https://colab.research.google.com/assets/colab-badge.svg\" alt=\"Open In Colab\"/></a>"
      ]
    },
    {
      "cell_type": "code",
      "execution_count": 35,
      "metadata": {
        "colab": {
          "base_uri": "https://localhost:8080/"
        },
        "id": "kCo7RVKygRWW",
        "outputId": "2aa5a3a0-950f-4c38-d4c1-457ad8b1eaa4"
      },
      "outputs": [
        {
          "output_type": "stream",
          "name": "stdout",
          "text": [
            "Drive already mounted at /content/gdrive; to attempt to forcibly remount, call drive.mount(\"/content/gdrive\", force_remount=True).\n",
            "<class 'pandas.core.frame.DataFrame'>\n",
            "RangeIndex: 23683 entries, 0 to 23682\n",
            "Data columns (total 6 columns):\n",
            " #   Column     Non-Null Count  Dtype  \n",
            "---  ------     --------------  -----  \n",
            " 0   Open       23683 non-null  float32\n",
            " 1   High       23683 non-null  float32\n",
            " 2   Low        23683 non-null  float32\n",
            " 3   Close      23683 non-null  float32\n",
            " 4   Adj Close  23683 non-null  float32\n",
            " 5   Volume     23683 non-null  float32\n",
            "dtypes: float32(6)\n",
            "memory usage: 555.2 KB\n"
          ]
        }
      ],
      "source": [
        "import pandas as pd\n",
        "import numpy as np\n",
        "from sklearn.preprocessing import MinMaxScaler, StandardScaler\n",
        "from keras.models import Sequential\n",
        "from keras.layers import Dense, LSTM, Dropout, TimeDistributed\n",
        "from google.colab import drive\n",
        "import matplotlib.pyplot as plt\n",
        "from keras.optimizers import Adam\n",
        "import warnings \n",
        "\n",
        "warnings.filterwarnings('ignore')\n",
        "\n",
        "drive.mount('/content/gdrive')\n",
        "train_data = pd.read_csv(\"/content/gdrive/MyDrive/GSPC_train.csv\", )\n",
        "train_data = train_data.drop(['Date'], axis= 1)\n",
        "train_data = train_data.apply(lambda x: pd.to_numeric(x.str.replace(',',''), errors='coerce')).fillna(-1).astype('float32')\n",
        "train_data.info()"
      ]
    },
    {
      "cell_type": "code",
      "source": [
        "size = int(len(train_data) * 0.8)\n",
        "train, val = train_data[:size], train_data[size:]\n",
        "train.shape, val.shape"
      ],
      "metadata": {
        "colab": {
          "base_uri": "https://localhost:8080/"
        },
        "id": "T_26VZ1lLEi9",
        "outputId": "8c13be30-b358-4ed7-ecad-ba6c9b3dd2af"
      },
      "execution_count": 36,
      "outputs": [
        {
          "output_type": "execute_result",
          "data": {
            "text/plain": [
              "((18946, 6), (4737, 6))"
            ]
          },
          "metadata": {},
          "execution_count": 36
        }
      ]
    },
    {
      "cell_type": "code",
      "source": [
        "def create_sequences(data, sequences):\n",
        "    X = []\n",
        "    y = []\n",
        "    for i in range(sequences, len(data)):\n",
        "        X.append(data[i-sequences:i, :])\n",
        "        y.append(data[i, 0])\n",
        "    X = np.array(X)\n",
        "    y = np.array(y)\n",
        "    return X, y"
      ],
      "metadata": {
        "id": "hVMiJjcWgvY1"
      },
      "execution_count": 37,
      "outputs": []
    },
    {
      "cell_type": "code",
      "source": [
        "sc = MinMaxScaler(feature_range=(0,1))\n",
        "sequences = 15\n",
        "\n",
        "train_data_scaled = sc.fit_transform(train.iloc[:, 4:5])\n",
        "val_data_scaled = sc.fit_transform(val.iloc[:, 4:5])\n",
        "X_train, y_train = create_sequences(train_data_scaled, sequences)\n",
        "X_val, y_val = create_sequences(val_data_scaled, sequences)\n",
        "X_train.shape, y_train.shape, X_val.shape, y_val.shape"
      ],
      "metadata": {
        "colab": {
          "base_uri": "https://localhost:8080/"
        },
        "id": "KMgrUfAAhLsX",
        "outputId": "d341f6ab-9dff-4132-fd1f-35e9251abbff"
      },
      "execution_count": 38,
      "outputs": [
        {
          "output_type": "execute_result",
          "data": {
            "text/plain": [
              "((18931, 15, 1), (18931,), (4722, 15, 1), (4722,))"
            ]
          },
          "metadata": {},
          "execution_count": 38
        }
      ]
    },
    {
      "cell_type": "code",
      "source": [
        "print(X_train[1],y_train[1])"
      ],
      "metadata": {
        "colab": {
          "base_uri": "https://localhost:8080/"
        },
        "id": "64QRrk9R7RGy",
        "outputId": "ecf2e01b-5e9f-4fd0-b876-6897a1a66e10"
      },
      "execution_count": 39,
      "outputs": [
        {
          "output_type": "stream",
          "name": "stdout",
          "text": [
            "[[0.00874555]\n",
            " [0.00863393]\n",
            " [0.00870616]\n",
            " [0.00860111]\n",
            " [0.00851575]\n",
            " [0.00850262]\n",
            " [0.00858141]\n",
            " [0.00865363]\n",
            " [0.00846323]\n",
            " [0.00846979]\n",
            " [0.00844353]\n",
            " [0.00852232]\n",
            " [0.00858798]\n",
            " [0.00869303]\n",
            " [0.00873899]] 0.008614238\n"
          ]
        }
      ]
    },
    {
      "cell_type": "code",
      "source": [
        "model = Sequential()\n",
        "model.add(LSTM(units=30, return_sequences=False, input_shape=(X_train.shape[1], X_train.shape[2])))\n",
        "model.add(Dense(units=1))\n",
        "\n",
        "model.compile(optimizer='Adam', loss='mse')\n",
        "\n",
        "model.fit(X_train, y_train, validation_data=(X_val, y_val),epochs=10, batch_size=32)"
      ],
      "metadata": {
        "colab": {
          "base_uri": "https://localhost:8080/"
        },
        "id": "YkZbrumanRUA",
        "outputId": "2f55ee4e-789f-4000-bfee-e7b3fc4e9f4a"
      },
      "execution_count": 40,
      "outputs": [
        {
          "output_type": "stream",
          "name": "stdout",
          "text": [
            "Epoch 1/10\n",
            "592/592 [==============================] - 10s 8ms/step - loss: 6.2089e-04 - val_loss: 3.6513e-04\n",
            "Epoch 2/10\n",
            "592/592 [==============================] - 4s 7ms/step - loss: 6.5689e-05 - val_loss: 1.6987e-04\n",
            "Epoch 3/10\n",
            "592/592 [==============================] - 5s 8ms/step - loss: 5.5035e-05 - val_loss: 1.2131e-04\n",
            "Epoch 4/10\n",
            "592/592 [==============================] - 4s 7ms/step - loss: 4.8499e-05 - val_loss: 1.7521e-04\n",
            "Epoch 5/10\n",
            "592/592 [==============================] - 4s 7ms/step - loss: 5.2398e-05 - val_loss: 1.1149e-04\n",
            "Epoch 6/10\n",
            "592/592 [==============================] - 4s 7ms/step - loss: 4.3260e-05 - val_loss: 9.3733e-05\n",
            "Epoch 7/10\n",
            "592/592 [==============================] - 4s 7ms/step - loss: 3.9978e-05 - val_loss: 1.1187e-04\n",
            "Epoch 8/10\n",
            "592/592 [==============================] - 4s 7ms/step - loss: 3.8811e-05 - val_loss: 9.0798e-05\n",
            "Epoch 9/10\n",
            "592/592 [==============================] - 4s 7ms/step - loss: 3.6509e-05 - val_loss: 1.1263e-04\n",
            "Epoch 10/10\n",
            "592/592 [==============================] - 5s 8ms/step - loss: 3.6243e-05 - val_loss: 7.7405e-05\n"
          ]
        },
        {
          "output_type": "execute_result",
          "data": {
            "text/plain": [
              "<keras.callbacks.History at 0x7f33a7380970>"
            ]
          },
          "metadata": {},
          "execution_count": 40
        }
      ]
    },
    {
      "cell_type": "code",
      "source": [
        "model.evaluate(X_train, y_train, batch_size= 32)"
      ],
      "metadata": {
        "colab": {
          "base_uri": "https://localhost:8080/"
        },
        "id": "D7PNGwgQKoSt",
        "outputId": "bc0acb23-745b-477e-a43d-aa4f5eb6fcda"
      },
      "execution_count": 41,
      "outputs": [
        {
          "output_type": "stream",
          "name": "stdout",
          "text": [
            "592/592 [==============================] - 2s 3ms/step - loss: 2.9361e-05\n"
          ]
        },
        {
          "output_type": "execute_result",
          "data": {
            "text/plain": [
              "2.936095006589312e-05"
            ]
          },
          "metadata": {},
          "execution_count": 41
        }
      ]
    },
    {
      "cell_type": "code",
      "source": [
        "test_df = pd.read_csv(\"/content/gdrive/MyDrive/GSPC_test.csv\")\n",
        "\n",
        "test_data = test_df.copy()\n",
        "test_data = test_data.drop(['Date'], axis= 1)\n",
        "test_data_clean = test_data.apply(lambda x: pd.to_numeric(x.str.replace(',',''), errors='coerce')).fillna(-1).astype('float32')\n",
        "\n",
        "preds = list()\n",
        "days = 15\n",
        "test_data = test_data_clean.iloc[:days+1, 4:5]\n",
        "\n",
        "for i in range(1, days+1):\n",
        "  test_data_scaled = sc.fit_transform(test_data)\n",
        "  X_test, y_test = create_sequences(test_data_scaled, sequences)\n",
        "  test_predictions = model.predict(X_test)\n",
        "  inverse = sc.inverse_transform(test_predictions)\n",
        "  preds.append(inverse[:, 0])\n",
        "  test_data.drop(0, inplace=True)\n",
        "  test_data = test_data.append(pd.Series(inverse[:,0], index=test_data.columns), ignore_index=True)\n"
      ],
      "metadata": {
        "colab": {
          "base_uri": "https://localhost:8080/"
        },
        "id": "BeP53pdCnWRb",
        "outputId": "8f78ae47-8df8-4190-f765-7e397559f2ac"
      },
      "execution_count": 82,
      "outputs": [
        {
          "output_type": "stream",
          "name": "stdout",
          "text": [
            "1/1 [==============================] - 0s 23ms/step\n",
            "1/1 [==============================] - 0s 21ms/step\n",
            "1/1 [==============================] - 0s 21ms/step\n",
            "1/1 [==============================] - 0s 21ms/step\n",
            "1/1 [==============================] - 0s 25ms/step\n",
            "1/1 [==============================] - 0s 19ms/step\n",
            "1/1 [==============================] - 0s 18ms/step\n",
            "1/1 [==============================] - 0s 21ms/step\n",
            "1/1 [==============================] - 0s 18ms/step\n",
            "1/1 [==============================] - 0s 22ms/step\n",
            "1/1 [==============================] - 0s 19ms/step\n",
            "1/1 [==============================] - 0s 19ms/step\n",
            "1/1 [==============================] - 0s 21ms/step\n",
            "1/1 [==============================] - 0s 20ms/step\n",
            "1/1 [==============================] - 0s 21ms/step\n"
          ]
        }
      ]
    },
    {
      "cell_type": "code",
      "source": [
        "preds"
      ],
      "metadata": {
        "colab": {
          "base_uri": "https://localhost:8080/"
        },
        "id": "WgJUcv7hYp-W",
        "outputId": "0786bc41-0d00-4f8d-b840-1e2312313277"
      },
      "execution_count": 70,
      "outputs": [
        {
          "output_type": "execute_result",
          "data": {
            "text/plain": [
              "[array([4210.0225], dtype=float32),\n",
              " array([4203.6626], dtype=float32),\n",
              " array([4202.185], dtype=float32),\n",
              " array([4201.887], dtype=float32),\n",
              " array([4202.101], dtype=float32),\n",
              " array([4201.955], dtype=float32),\n",
              " array([4201.782], dtype=float32),\n",
              " array([4202.048], dtype=float32),\n",
              " array([4202.1987], dtype=float32),\n",
              " array([4202.2246], dtype=float32),\n",
              " array([4202.267], dtype=float32),\n",
              " array([4202.3604], dtype=float32),\n",
              " array([4202.369], dtype=float32),\n",
              " array([4202.434], dtype=float32),\n",
              " array([4202.504], dtype=float32)]"
            ]
          },
          "metadata": {},
          "execution_count": 70
        }
      ]
    },
    {
      "cell_type": "code",
      "source": [
        "model.evaluate(X_test, y_test, batch_size= 32)"
      ],
      "metadata": {
        "colab": {
          "base_uri": "https://localhost:8080/"
        },
        "id": "8L5ZVeZPKzXX",
        "outputId": "82636935-1174-4611-81bb-e36af779a55d"
      },
      "execution_count": 66,
      "outputs": [
        {
          "output_type": "stream",
          "name": "stdout",
          "text": [
            "1/1 [==============================] - 0s 44ms/step - loss: 2.1012e-07\n"
          ]
        },
        {
          "output_type": "execute_result",
          "data": {
            "text/plain": [
              "2.1012095885453164e-07"
            ]
          },
          "metadata": {},
          "execution_count": 66
        }
      ]
    },
    {
      "cell_type": "code",
      "source": [
        "from numpy.ma import left_shift\n",
        "import matplotlib.ticker as ticker\n",
        "\n",
        "\n",
        "limit = sequences + days\n",
        "Actual_Close = test_data_clean['Close'].drop(sequences)\n",
        "\n",
        "result = preds\n",
        "\n",
        "plt.figure(figsize=(12, 8))\n",
        "plt.title('Actual vs. Predicted Closing Prices')\n",
        "plt.xlabel('Time line')\n",
        "plt.ylabel('Closing Price')\n",
        "plt.plot(result, label='Predicted Close', color='b', linestyle='--')\n",
        "plt.plot(Actual_Close, label='Actual Close', color='r')\n",
        "plt.xlim([0,days])\n",
        "#plt.ylim([max(Actual_Close), min(result)])\n",
        "ax= plt.gca()\n",
        "#ax.xaxis.set_major_locator(ticker.MultipleLocator(100))\n",
        "#ax.yaxis.set_major_locator(ticker.MultipleLocator(100))\n",
        "plt.legend()\n",
        "plt.show()"
      ],
      "metadata": {
        "id": "Pb_RbsQ5oVa4",
        "colab": {
          "base_uri": "https://localhost:8080/",
          "height": 718
        },
        "outputId": "9fe51231-f7d8-4b09-a1cb-fc939179d14a"
      },
      "execution_count": 85,
      "outputs": [
        {
          "output_type": "display_data",
          "data": {
            "text/plain": [
              "<Figure size 1200x800 with 1 Axes>"
            ],
            "image/png": "[encoded data removed]"
          },
          "metadata": {}
        }
      ]
    },
    {
      "cell_type": "code",
      "source": [],
      "metadata": {
        "id": "A7YC22ZJdrFE"
      },
      "execution_count": null,
      "outputs": []
    }
  ]
}